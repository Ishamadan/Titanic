{
 "cells": [
  {
   "cell_type": "code",
   "execution_count": 6,
   "metadata": {
    "collapsed": true
   },
   "outputs": [],
   "source": [
    "import numpy as np\n",
    "import pandas as pd\n",
    "from sklearn.linear_model import LogisticRegression\n",
    "\n",
    "def DataPrep(titanic,meanR):\n",
    "    del titanic['Name']\n",
    "    del titanic['Ticket']\n",
    "    del titanic['Cabin']\n",
    "    del titanic['Fare']\n",
    "\n",
    "    \n",
    "    titanic.Age.fillna(meanR,inplace=True)\n",
    "\n",
    "    titanic['Embarked'].fillna('S',inplace=True)\n",
    "        \n",
    "    titanic['TravelAlone']=np.where((titanic[\"SibSp\"]+titanic[\"Parch\"])>0, 0, 1)    \n",
    "    del titanic['SibSp']\n",
    "    del titanic['Parch']\n",
    "    titanic['IsMinor']=np.where(titanic['Age']<=18, 1, 0)\n",
    "    \n",
    "    titanic=pd.get_dummies(titanic, columns=[\"Pclass\",\"Embarked\",'Sex'])\n",
    "    \n",
    "    return titanic\n",
    "\n",
    "\n"
   ]
  },
  {
   "cell_type": "code",
   "execution_count": 7,
   "metadata": {},
   "outputs": [],
   "source": [
    "titanic = pd.read_csv('0000000000002429_training_titanic_x_y_train.csv')\n",
    "meanR = (titanic['Age'].median())\n",
    "titanic1 = pd.read_csv('0000000000002429_test_titanic_x_test.csv')\n",
    "x_t = titanic.iloc[:,:-1]\n",
    "y_train = titanic.iloc[:,-1]\n",
    "x_train = DataPrep(x_t,meanR)\n",
    "x_test = DataPrep(titanic1,meanR)\n",
    "\n",
    "col = ['TravelAlone','IsMinor','Pclass_1','Pclass_2','Embarked_C','Embarked_Q','Sex_female']    \n",
    "\n",
    "x_train = x_train[col]\n",
    "x_test = x_test[col]\n",
    "\n",
    "\n",
    "clf = LogisticRegression(solver='lbfgs')        \n",
    "clf.fit(x_train,y_train)\n",
    "y_pred = clf.predict(x_test)\n",
    "\n",
    "np.savetxt('titanic_pred.csv',y_pred,format('%0.f'))"
   ]
  },
  {
   "cell_type": "code",
   "execution_count": 8,
   "metadata": {},
   "outputs": [
    {
     "data": {
      "text/plain": [
       "0.7739520958083832"
      ]
     },
     "execution_count": 8,
     "metadata": {},
     "output_type": "execute_result"
    }
   ],
   "source": [
    "clf.score(x_train,y_train)"
   ]
  },
  {
   "cell_type": "code",
   "execution_count": 4,
   "metadata": {},
   "outputs": [
    {
     "data": {
      "text/plain": [
       "RandomForestClassifier(bootstrap=True, class_weight=None, criterion='gini',\n            max_depth=None, max_features='auto', max_leaf_nodes=None,\n            min_impurity_decrease=0.0, min_impurity_split=None,\n            min_samples_leaf=1, min_samples_split=2,\n            min_weight_fraction_leaf=0.0, n_estimators=10, n_jobs=1,\n            oob_score=False, random_state=None, verbose=0,\n            warm_start=False)"
      ]
     },
     "execution_count": 4,
     "metadata": {},
     "output_type": "execute_result"
    }
   ],
   "source": [
    "\n",
    "r = RandomForestClassifier()\n",
    "r.fit(x_train,y_train)"
   ]
  },
  {
   "cell_type": "code",
   "execution_count": 5,
   "metadata": {},
   "outputs": [
    {
     "name": "stdout",
     "output_type": "stream",
     "text": [
      "   TravelAlone  IsMinor  Pclass_1  Pclass_2  Embarked_C  Embarked_Q  \\\n0            0        0         0         1           0           0   \n1            1        0         0         0           0           0   \n2            1        0         0         1           0           0   \n3            0        0         0         0           0           0   \n4            1        0         0         0           0           0   \n\n   Sex_female  \n0           1  \n1           0  \n2           0  \n3           1  \n4           0  \n"
     ]
    }
   ],
   "source": [
    "print(x_train.head())"
   ]
  },
  {
   "cell_type": "code",
   "execution_count": 6,
   "metadata": {},
   "outputs": [],
   "source": [
    ""
   ]
  },
  {
   "cell_type": "code",
   "execution_count": 83,
   "metadata": {},
   "outputs": [],
   "source": [
    ""
   ]
  },
  {
   "cell_type": "code",
   "execution_count": 83,
   "metadata": {},
   "outputs": [],
   "source": [
    ""
   ]
  },
  {
   "cell_type": "code",
   "execution_count": 83,
   "metadata": {},
   "outputs": [],
   "source": [
    ""
   ]
  },
  {
   "cell_type": "code",
   "execution_count": 83,
   "metadata": {},
   "outputs": [],
   "source": [
    ""
   ]
  },
  {
   "cell_type": "code",
   "execution_count": 83,
   "metadata": {},
   "outputs": [],
   "source": []
  },
  {
   "cell_type": "code",
   "execution_count": 83,
   "metadata": {},
   "outputs": [],
   "source": []
  },
  {
   "cell_type": "code",
   "execution_count": 83,
   "metadata": {},
   "outputs": [],
   "source": []
  },
  {
   "cell_type": "code",
   "execution_count": 83,
   "metadata": {},
   "outputs": [],
   "source": []
  },
  {
   "cell_type": "code",
   "execution_count": 83,
   "metadata": {},
   "outputs": [],
   "source": []
  },
  {
   "cell_type": "code",
   "execution_count": 83,
   "metadata": {},
   "outputs": [],
   "source": []
  },
  {
   "cell_type": "code",
   "execution_count": null,
   "metadata": {},
   "outputs": [],
   "source": []
  }
 ],
 "metadata": {
  "kernelspec": {
   "display_name": "Python 2",
   "language": "python",
   "name": "python2"
  },
  "language_info": {
   "codemirror_mode": {
    "name": "ipython",
    "version": 2
   },
   "file_extension": ".py",
   "mimetype": "text/x-python",
   "name": "python",
   "nbconvert_exporter": "python",
   "pygments_lexer": "ipython2",
   "version": "2.7.6"
  }
 },
 "nbformat": 4,
 "nbformat_minor": 0
}
